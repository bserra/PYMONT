{
 "cells": [
  {
   "cell_type": "markdown",
   "metadata": {},
   "source": [
    "Created on Tue Jun 26 12:48:28 2018\n",
    "\n",
    "@author: bserra\n",
    "\n",
    "v0.1 - First draft for examples of the instruction server\n",
    "       Might want to migrate this to a python notebook"
   ]
  },
  {
   "cell_type": "code",
   "execution_count": 47,
   "metadata": {},
   "outputs": [],
   "source": [
    "# IMPORTS\n",
    "#########################\n",
    "import socket\n",
    "import json\n",
    "import time\n",
    "import matplotlib.pyplot as plt\n",
    "\n",
    "# CONSTANTS\n",
    "#########################\n",
    "fontsize=14"
   ]
  },
  {
   "cell_type": "code",
   "execution_count": 58,
   "metadata": {},
   "outputs": [],
   "source": [
    "# METHODS\n",
    "#########################\n",
    "def InstructionClient(TCP_IP, PORT):\n",
    "    \"\"\"\"\"\"\n",
    "    client = socket.socket(socket.AF_INET, socket.SOCK_STREAM)\n",
    "    client.connect((TCP_IP, PORT))\n",
    "    client.settimeout(5)\n",
    "\n",
    "    return client\n",
    "\n",
    "def _sendInstruction(client, command):\n",
    "    \"\"\"\"\"\"\n",
    "    client.sendall(command.encode())\n",
    "    output = client.recv(BUFFER_SIZE)\n",
    "\n",
    "    # Try to convert the string output to dictionnary\n",
    "    try:\n",
    "        output = json.loads(output.decode())\n",
    "    # If not a dictionnary, just dump the string\n",
    "    except:\n",
    "        output = output.decode()\n",
    "        \n",
    "    return output\n",
    "\n",
    "def _test_client_timestamps(client):\n",
    "    \"\"\"\"\"\"\n",
    "    import time\n",
    "    timestamp = list()\n",
    "    INTTIME = 0\n",
    "    while INTTIME <120:\n",
    "        output = _sendInstruction(client,'INST|READ\\r\\n')\n",
    "        timestamp.append(output['Time'][0])\n",
    "        INTTIME += 1\n",
    "                \n",
    "    return timestamp"
   ]
  },
  {
   "cell_type": "markdown",
   "metadata": {},
   "source": [
    "The programs begins here, with the definition of the constants for the connection to the Instruction Server (IS). \n",
    "- BUFFER_SIZE: For setups with a bunch of instruments, a BUFFER_SIZE of 2048 is required (ex: CRISLER with all instruments running).\n",
    "- TCP_IP: IP address as defined in the raspberry (CRISLER - 134.171.5.190 / MTF - 134.171.12.57)\n",
    "- PORT: always 4500 on raspberrys, on Windows system, need to check whether port is available before starting\n"
   ]
  },
  {
   "cell_type": "code",
   "execution_count": null,
   "metadata": {},
   "outputs": [],
   "source": [
    "# MAIN\n",
    "#########################\n",
    "if __name__ == \"__main__\":\n",
    "    print ('Processing...')\n",
    " \n",
    "    # Constants\n",
    "    BUFFER_SIZE = 2048\n",
    "    TCP_IP = '134.171.5.190'\n",
    "    PORT = 4500"
   ]
  },
  {
   "cell_type": "markdown",
   "metadata": {},
   "source": [
    "# Unit tests"
   ]
  },
  {
   "cell_type": "markdown",
   "metadata": {},
   "source": [
    "## UT1 For HELP command\n",
    "Should send back the HELPER when send HELP\\r\\n"
   ]
  },
  {
   "cell_type": "code",
   "execution_count": 59,
   "metadata": {},
   "outputs": [
    {
     "name": "stdout",
     "output_type": "stream",
     "text": [
      "\n",
      "_____________________________\n",
      "\u001b[44m                             \u001b[0m\n",
      "\u001b[44m  Instruction server help    \u001b[0m\n",
      "\u001b[44m_____________________________\u001b[0m        \n",
      "Commands:\n",
      "    - HELP:     print this help\n",
      "\t- SAVEPATH: change the path where the data is saved to the string after the pipe\n",
      "    - START:    start the monitoring, creating a [date]_[time].txt log file with \n",
      "                the UTC time.\n",
      "    - INFOS:\tprint the starting time of the monitoring [UTC] and the save file path\n",
      "    - STOP:     stop the monitoring, closing properly the log file\n",
      "\t- EXIT:\t\tclose the current connection to the monitoring. \n",
      "    - CLOSE:    close every connection and the resource manager from pyvisa\n",
      "\t\t\t\tand then stop the python script properly.\n",
      "    - INST:     the INST command allows to access the instruments connected through\n",
      "                the communication server.\n",
      "                Syntax:\n",
      "                -------\n",
      "                INST|LIST: Instruments connected and their associated TAG value\n",
      "                           (T001, PSU002,...)\n",
      "                INST|READ: Reading of all connected instrument using the dump_sensors\n",
      "                           from each driver\n",
      "                INST|[TAG]|[COMMAND]: Send COMMAND to the instrument TAG, careful with\n",
      "                           the string formatting, no protection as for v1.0\n",
      "\n",
      "    - COMMENT:  the COMMENT command allows to enter comments in the logfile \n",
      "                Syntax:\n",
      "                -------\n",
      "                COMMENT|This is a comment: Will put 'This is a comment' in the\n",
      "                                           Comments columns of the logfile\n",
      "\r\n",
      "\n",
      "Done.\n"
     ]
    }
   ],
   "source": [
    "    # Connecting to the instruction server\n",
    "    client = InstructionClient(TCP_IP, PORT)\n",
    "    helper = _sendInstruction(client,'HELP\\r\\n')\n",
    "    print (helper)\n",
    "    # Close the connexion\n",
    "    client.close()\n",
    "    print ('Done.')"
   ]
  },
  {
   "cell_type": "markdown",
   "metadata": {},
   "source": [
    "## UT2 for the Read Buffer Activation.\n",
    "If the monitoring is started, the IS send back only the last stored point (no more than the sampling time defined in the configuration file).\n",
    "Done with 5 seconds sampling."
   ]
  },
  {
   "cell_type": "code",
   "execution_count": null,
   "metadata": {},
   "outputs": [],
   "source": [
    "    # Connecting to the instruction server\n",
    "    client = InstructionClient(TCP_IP, PORT)\n",
    "    _sendInstruction(client,'START\\r\\n')\n",
    "    monitoring_on = _test_client_timestamps(client)\n",
    "    # Close the connexion\n",
    "    client.close()\n",
    "    print ('Done.')\n",
    "    \n",
    "    # Connecting to the instruction server\n",
    "    client = InstructionClient(TCP_IP, PORT)\n",
    "    _sendInstruction(client,'STOP\\r\\n')\n",
    "    monitoring_off = _test_client_timestamps(client)        \n",
    "    # Close the connexion\n",
    "    client.close()\n",
    "    print ('Done.')"
   ]
  },
  {
   "cell_type": "code",
   "execution_count": 61,
   "metadata": {},
   "outputs": [
    {
     "data": {
      "image/png": "[encoded data removed]",
      "text/plain": [
       "<matplotlib.figure.Figure at 0x2857e8969e8>"
      ]
     },
     "metadata": {},
     "output_type": "display_data"
    }
   ],
   "source": [
    "    fig, axes = plt.subplots(1,2,figsize = (15,6))\n",
    "    axes[1].plot(monitoring_on,label='Monitoring started')\n",
    "    axes[1].get_yaxis().set_ticks([])\n",
    "    axes[0].set_ylabel('Monitoring timestamp [date]',fontsize=fontsize)\n",
    "    axes[1].set_xlabel('Instruction time since start [s]',fontsize=fontsize)\n",
    "    axes[0].plot(monitoring_off,label='Monitoring stopped')\n",
    "    axes[0].get_yaxis().set_ticks([])\n",
    "    axes[0].set_xlabel('Instruction time since start [s]',fontsize=fontsize)\n",
    "    for ax in axes:\n",
    "        ax.grid(True)\n",
    "        ax.legend(fontsize=fontsize-2)\n"
   ]
  },
  {
   "cell_type": "code",
   "execution_count": 5,
   "metadata": {},
   "outputs": [],
   "source": [
    "# GARBAGE\n",
    "#########################\n",
    "\n",
    "#    '''\n",
    "#    Example 1 : Reading\n",
    "#    '''\n",
    "#    # Loop over instructions, hardcoded 1s delay betw. instruction in the\n",
    "#    # server side (CRISLER_Monitoring_v04.4 - l244)\n",
    "#    for instruction in ['INST|READ',\n",
    "#                        'INST|LIST',\n",
    "#                        'INST|T001|KRDG? 0',\n",
    "#                        'INST|OS001|:MEAS:RES?']:\n",
    "#        \n",
    "#        # Encode in bytes the instruction and send it to the server\n",
    "#        client.sendall(instruction.encode())\n",
    "#        # Read the output from the server\n",
    "#        output = client.recv(BUFFER_SIZE)\n",
    "#        # Try to convert the string output to dictionnary\n",
    "#        try:\n",
    "#            output = json.loads(output.decode())\n",
    "#        # If not a dictionnary, just dump the string\n",
    "#        except:\n",
    "#            output = output.decode()\n",
    "#            \n",
    "#        # Print the output and print their associated type\n",
    "#        print (output, type(output))\n",
    "       \n",
    "        \n",
    "#    '''\n",
    "#    Example 2 : Sending instructions\n",
    "#    /!\\ Will not work with non-SCPI protocol instruments\n",
    "#    Lakeshore, Multimeters have been tested with simple commands\n",
    "#    '''\n",
    "#    for instruction in ['INST|T001|SETP? 1',\n",
    "#                        'INST|T001|SETP 1,290',\n",
    "#                        'INST|T001|SETP? 1']:\n",
    "#        \n",
    "#        # Encode in bytes the instruction and send it to the server\n",
    "#        client.sendall(instruction.encode())\n",
    "#        # Read the output from the server\n",
    "#        output = client.recv(BUFFER_SIZE)\n",
    "#        # Try to convert the string output to dictionnary\n",
    "#        try:\n",
    "#            output = json.loads(output.decode())\n",
    "#        # If not a dictionnary, just dump the string\n",
    "#        except:\n",
    "#            output = output.decode()\n",
    "#            \n",
    "#        # Print the output and print their associated type\n",
    "#        print (output, type(output))"
   ]
  },
  {
   "cell_type": "code",
   "execution_count": null,
   "metadata": {},
   "outputs": [],
   "source": []
  }
 ],
 "metadata": {
  "kernelspec": {
   "display_name": "Python 3",
   "language": "python",
   "name": "python3"
  },
  "language_info": {
   "codemirror_mode": {
    "name": "ipython",
    "version": 3
   },
   "file_extension": ".py",
   "mimetype": "text/x-python",
   "name": "python",
   "nbconvert_exporter": "python",
   "pygments_lexer": "ipython3",
   "version": "3.6.4"
  }
 },
 "nbformat": 4,
 "nbformat_minor": 2
}
