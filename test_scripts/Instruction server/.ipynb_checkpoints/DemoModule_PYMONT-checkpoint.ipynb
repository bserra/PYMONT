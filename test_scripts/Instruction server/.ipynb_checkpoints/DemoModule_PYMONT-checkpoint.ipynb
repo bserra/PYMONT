{
 "cells": [
  {
   "cell_type": "markdown",
   "metadata": {
    "hide_input": false
   },
   "source": [
    "Created on Tue Jun 26 12:48:28 2018\n",
    "\n",
    "@author: bserra\n",
    "\n",
    "v0.1 - First draft for examples of the instruction server\n",
    "       Might want to migrate this to a python notebook\n",
    "       \n",
    "# 1. Imports and constants"
   ]
  },
  {
   "cell_type": "code",
   "execution_count": null,
   "metadata": {
    "hide_input": true
   },
   "outputs": [],
   "source": [
    "# IMPORTS\n",
    "#########################\n",
    "import socket\n",
    "import json\n",
    "import time\n",
    "import matplotlib.pyplot as plt\n",
    "\n",
    "# CONSTANTS\n",
    "#########################\n",
    "fontsize = 14\n",
    "color    = '\\x1b[46m'"
   ]
  },
  {
   "cell_type": "markdown",
   "metadata": {
    "hide_input": true
   },
   "source": [
    "# 2. Methods\n",
    "- InstructionClient: For connecting to the Instruction Server\n",
    "- _sendInstruction: Sending a command, and casting it into a dictionnary if possible\n",
    "- print_dict: Printing a dictionnary entry by entry"
   ]
  },
  {
   "cell_type": "code",
   "execution_count": null,
   "metadata": {
    "hide_input": false
   },
   "outputs": [],
   "source": [
    "# METHODS\n",
    "#########################\n",
    "def InstructionClient(TCP_IP, PORT):\n",
    "    \"\"\"\"\"\"\n",
    "    client = socket.socket(socket.AF_INET, socket.SOCK_STREAM)\n",
    "    client.connect((TCP_IP, PORT))\n",
    "    client.settimeout(5)\n",
    "\n",
    "    return client\n",
    "\n",
    "def _sendInstruction(client, command):\n",
    "    \"\"\"\"\"\"\n",
    "    client.sendall(command.encode())\n",
    "    output = client.recv(BUFFER_SIZE)\n",
    "\n",
    "    # Try to convert the string output to dictionnary\n",
    "    try:\n",
    "        output = json.loads(output.decode())\n",
    "    # If not a dictionnary, just dump the string\n",
    "    except:\n",
    "        output = output.decode()\n",
    "        \n",
    "    return output\n",
    "\n",
    "def print_dict(dictionnary):\n",
    "    for keyw in dictionnary.keys():\n",
    "        print (keyw, dictionnary[keyw])"
   ]
  },
  {
   "cell_type": "markdown",
   "metadata": {},
   "source": [
    "# 3. Main\n",
    "\n",
    "The programs begins here, with the definition of the constants for the connection to the Instruction Server (IS). \n",
    "\n",
    "BUFFER_SIZE: For setups with a bunch of instruments, a BUFFER_SIZE of 2048 is required (ex: CRISLER with all instruments running).\n",
    "\n",
    "TCP_IP: IP address as defined in the raspberry (CRISLER - 134.171.5.190 / NTF - 134.171.12.57)\n",
    "\n",
    "PORT: always 4500 on raspberrys, on Windows system, need to check whether port is available before starting\n",
    "\n",
    "The following cells displays the usual template for a connection to the instruction server:\n",
    "1. Defining the connection IP/PORT and the size of the buffer\n",
    "2. Connecting to the IS using socket\n",
    "3. Sending the instructions\n",
    "4. Closing the connection."
   ]
  },
  {
   "cell_type": "code",
   "execution_count": 10,
   "metadata": {
    "hide_input": true
   },
   "outputs": [],
   "source": [
    "# MAIN\n",
    "#########################\n",
    "if __name__ == \"__main__\":\n",
    "     # Constants\n",
    "    BUFFER_SIZE = 2048\n",
    "    TCP_IP = '134.171.5.190'\n",
    "    PORT = 4500"
   ]
  },
  {
   "cell_type": "markdown",
   "metadata": {
    "hide_input": false
   },
   "source": [
    "## 3.1. Sending one instruction"
   ]
  },
  {
   "cell_type": "code",
   "execution_count": 11,
   "metadata": {
    "hide_input": true
   },
   "outputs": [
    {
     "name": "stdout",
     "output_type": "stream",
     "text": [
      "\n",
      "_____________________________\n",
      "\u001b[44m                             \u001b[0m\n",
      "\u001b[44m  Instruction server help    \u001b[0m\n",
      "\u001b[44m_____________________________\u001b[0m        \n",
      "Commands:\n",
      "    - HELP:     print this help\n",
      "    - SAVEPATH: change the path where the data is saved to the string after the pipe\n",
      "    - START:    start the monitoring, creating a [date]_[time].txt log file with \n",
      "                the UTC time.\n",
      "    - INFOS:\tprint the starting time of the monitoring [UTC] and the save file path\n",
      "    - STOP:     stop the monitoring, closing properly the log file\n",
      "    - EXIT:\t\tclose the current connection to the monitoring. \n",
      "    - CLOSE:    close every connection and the resource manager from pyvisa\n",
      "\t\t\t\tand then stop the python script properly.\n",
      "    - INST:     the INST command allows to access the instruments connected through\n",
      "                the communication server.\n",
      "                Syntax:\n",
      "                -------\n",
      "                INST|LIST: Instruments connected and their associated TAG value\n",
      "                           (T001, PSU002,...)\n",
      "                INST|READ: Reading of all connected instrument using the dump_sensors\n",
      "                           from each driver\n",
      "                INST|[TAG]|[COMMAND]: Send COMMAND to the instrument TAG, careful with\n",
      "                           the string formatting, no protection as for v1.0\n",
      "\n",
      "    - COMMENT:  the COMMENT command allows to enter comments in the logfile \n",
      "                Syntax:\n",
      "                -------\n",
      "                COMMENT|This is a comment: Will put 'This is a comment' in the\n",
      "                                           Comments columns of the logfile\n",
      "\r\n",
      "\n",
      "Done.\n"
     ]
    }
   ],
   "source": [
    "    # Connecting to the instruction server\n",
    "    client = InstructionClient(TCP_IP, PORT)\n",
    "    '''\n",
    "    Example 0 : Retrieve informations from the setup\n",
    "    '''\n",
    "    helper = _sendInstruction(client,'HELP\\r\\n')\n",
    "    print (helper)\n",
    "    # Close the connexion\n",
    "    client.close()\n",
    "    print ('Done.')"
   ]
  },
  {
   "cell_type": "markdown",
   "metadata": {},
   "source": [
    "## 3.2. Setup informations\n",
    "\n",
    "Print the list of the connected instruments and do a simple read"
   ]
  },
  {
   "cell_type": "code",
   "execution_count": 12,
   "metadata": {
    "hide_input": false
   },
   "outputs": [
    {
     "name": "stdout",
     "output_type": "stream",
     "text": [
      "\u001b[46mInstruction sent: \u001b[1m INST|LIST \u001b[0m\n",
      "T001 <class 'drivers.lakeshore.lakeshore.LakeShore33x'>\n",
      "T002 <class 'drivers.lakeshore.lakeshore.LakeShore33x'>\n",
      "MM001 <class 'drivers.roheandschwarze.roheandschwarze.HMC8012'>\n",
      "MM002 <class 'drivers.roheandschwarze.roheandschwarze.HMC8012'>\n",
      "P001 <class 'drivers.pfeiffer.vacuumgauge.TPG262'>\n",
      "\u001b[46mInstruction sent: \u001b[1m INST|READ \u001b[0m\n",
      "Time ['12-10-2018_13-30-31', '[str] Date with UTC time']\n",
      "T001_H1 ['+000.0', '[%] Heater output 1']\n",
      "T001_H2 ['+000.0', '[%] Heater output 2']\n",
      "T001_Input A ['+294.031', '[K] Temperature Input A']\n",
      "T001_Input B ['+294.244', '[K] Temperature Input B']\n",
      "T001_Input C ['+292.734', '[K] Temperature Input C']\n",
      "T001_SETP1 ['+290.000', '[K] Setpoint loop 1']\n",
      "T001_SETP2 ['+310.000', '[K] Setpoint loop 2']\n",
      "T002_H1 ['+000.0', '[%] Heater output 1']\n",
      "T002_H2 ['+000.0', '[%] Heater output 2']\n",
      "T002_Input B ['+293.631', '[K] Temperature Input B']\n",
      "T002_Input C ['+293.623', '[K] Temperature Input C']\n",
      "T002_Input D ['+292.817', '[K] Temperature Input D']\n",
      "T002_Input D2 ['+294.935', '[K] Temperature Input D2']\n",
      "T002_Input D3 ['+294.820', '[K] Temperature Input D3']\n",
      "T002_Input D4 ['+293.751', '[K] Temperature Input D4']\n",
      "T002_Input D5 ['+293.865', '[K] Temperature Input D5']\n",
      "T002_SETP1 ['+320.000', '[K] Setpoint loop 1']\n",
      "T002_SETP2 ['+310.000', '[K] Setpoint loop 2']\n",
      "MM001_DC_I ['-6.20948981E-0', '[A] DC_I']\n",
      "MM002_DC_V ['1.56303780E-0', '[V] DC_V']\n",
      "P001_Gauge 1 [' 1.2500E-04', '[mbar] Pressure Gauge 1']\n",
      "P001_Gauge 2 [' 2.2200E-04', '[mbar] Pressure Gauge 2']\n",
      "Done.\n"
     ]
    }
   ],
   "source": [
    "    # Connecting to the instruction server\n",
    "    client = InstructionClient(TCP_IP, PORT)\n",
    "    '''\n",
    "    Example 1 : Retrieve informations from the setup\n",
    "    '''\n",
    "    read = _sendInstruction(client,'INST|LIST\\r\\n')\n",
    "    print (color+'Instruction sent: \\x1b[1m INST|LIST \\x1b[0m')    \n",
    "    print_dict(read)\n",
    "\n",
    "    read = _sendInstruction(client,'INST|READ\\r\\n')\n",
    "    print (color+'Instruction sent: \\x1b[1m INST|READ \\x1b[0m')    \n",
    "    print_dict(read)\n",
    "\n",
    "    # Close the connexion\n",
    "    client.close()\n",
    "    print ('Done.')"
   ]
  },
  {
   "cell_type": "markdown",
   "metadata": {},
   "source": [
    "## 3.3. Print infos (only when monitoring is started)"
   ]
  },
  {
   "cell_type": "code",
   "execution_count": 13,
   "metadata": {
    "hide_input": false
   },
   "outputs": [
    {
     "name": "stdout",
     "output_type": "stream",
     "text": [
      "\u001b[46mInstruction sent: \u001b[1m INFOS \u001b[0m\n",
      "start ['12-10-2018_13-22-14', '[str] Starting date DD-MM-YYYY_hh-mm-ss']\n",
      "spath ['/home/pi/Softwares/Monitoring_v1.x/', '[str] Path for save files']\n",
      "sfile ['12-10-2018_13-22-13.txt', '[str] Save file full name']\n",
      "Done.\n"
     ]
    }
   ],
   "source": [
    "    # Connecting to the instruction server\n",
    "    client = InstructionClient(TCP_IP, PORT)\n",
    "    '''\n",
    "    Example 2 : Retrieve informations from the monitoring\n",
    "    '''\n",
    "    read = _sendInstruction(client,'INFOS\\r\\n')\n",
    "    print (color+'Instruction sent: \\x1b[1m INFOS \\x1b[0m')    \n",
    "    print_dict(read)\n",
    "    # Close the connexion\n",
    "    client.close()\n",
    "    print ('Done.')"
   ]
  },
  {
   "cell_type": "markdown",
   "metadata": {},
   "source": [
    "## 3.4. Sending many instructions"
   ]
  },
  {
   "cell_type": "code",
   "execution_count": 14,
   "metadata": {
    "hide_input": false
   },
   "outputs": [
    {
     "name": "stdout",
     "output_type": "stream",
     "text": [
      "\u001b[46mInstruction sent: \u001b[1mINST|READ\n",
      "\u001b[0m\n",
      "Time ['12-10-2018_13-32-08', '[str] Date with UTC time']\n",
      "T001_H1 ['+000.0', '[%] Heater output 1']\n",
      "T001_H2 ['+000.0', '[%] Heater output 2']\n",
      "T001_Input A ['+294.034', '[K] Temperature Input A']\n",
      "T001_Input B ['+294.245', '[K] Temperature Input B']\n",
      "T001_Input C ['+292.735', '[K] Temperature Input C']\n",
      "T001_SETP1 ['+290.000', '[K] Setpoint loop 1']\n",
      "T001_SETP2 ['+310.000', '[K] Setpoint loop 2']\n",
      "T002_H1 ['+000.0', '[%] Heater output 1']\n",
      "T002_H2 ['+000.0', '[%] Heater output 2']\n",
      "T002_Input B ['+293.630', '[K] Temperature Input B']\n",
      "T002_Input C ['+293.626', '[K] Temperature Input C']\n",
      "T002_Input D ['+292.820', '[K] Temperature Input D']\n",
      "T002_Input D2 ['+294.935', '[K] Temperature Input D2']\n",
      "T002_Input D3 ['+294.820', '[K] Temperature Input D3']\n",
      "T002_Input D4 ['+293.751', '[K] Temperature Input D4']\n",
      "T002_Input D5 ['+293.867', '[K] Temperature Input D5']\n",
      "T002_SETP1 ['+320.000', '[K] Setpoint loop 1']\n",
      "T002_SETP2 ['+310.000', '[K] Setpoint loop 2']\n",
      "MM001_DC_I ['-6.20948981E-0', '[A] DC_I']\n",
      "MM002_DC_V ['1.56899900E-0', '[V] DC_V']\n",
      "P001_Gauge 1 [' 1.2500E-04', '[mbar] Pressure Gauge 1']\n",
      "P001_Gauge 2 [' 2.2300E-04', '[mbar] Pressure Gauge 2']\n",
      "\u001b[46mInstruction sent: \u001b[1mINST|LIST\n",
      "\u001b[0m\n",
      "T001 <class 'drivers.lakeshore.lakeshore.LakeShore33x'>\n",
      "T002 <class 'drivers.lakeshore.lakeshore.LakeShore33x'>\n",
      "MM001 <class 'drivers.roheandschwarze.roheandschwarze.HMC8012'>\n",
      "MM002 <class 'drivers.roheandschwarze.roheandschwarze.HMC8012'>\n",
      "P001 <class 'drivers.pfeiffer.vacuumgauge.TPG262'>\n",
      "\u001b[46mInstruction sent: \u001b[1mINST|T001|KRDG? 0\u001b[0m\n",
      "+294.034,+294.245,+292.735,+00.0000,+00.0000,+00.0000,+00.0000,+00.0000\n",
      "\u001b[46mInstruction sent: \u001b[1mINST|T001|*IDN?\u001b[0m\n",
      "LSCI,MODEL336,LSA22LU/LSA217G,2.8\n",
      "\u001b[46mInstruction sent: \u001b[1mINST|T002|*IDN?\u001b[0m\n",
      "LSCI,MODEL336,LSA163F/LSA15SI,2.7\n",
      "\u001b[46mInstruction sent: \u001b[1mINST|MM001|*IDN?\u001b[0m\n",
      "HAMEG,HMC8012,021537440,01.06\n",
      "\u001b[46mInstruction sent: \u001b[1mINST|MM002|*IDN?\u001b[0m\n",
      "HAMEG,HMC8012,021537443,01.06\n",
      "Done.\n"
     ]
    }
   ],
   "source": [
    "    # Connecting to the instruction server\n",
    "    client = InstructionClient(TCP_IP, PORT)\n",
    "    '''\n",
    "    Example 3 : Sending instructions in a loop\n",
    "    '''\n",
    "    # Loop over instructions, hardcoded 1s delay betw. instruction in the\n",
    "    # server side (CRISLER_Monitoring_v04.4 - l244)\n",
    "    for instruction in ['INST|READ\\r\\n',\n",
    "                        'INST|LIST\\r\\n',\n",
    "                        'INST|T001|KRDG? 0',\n",
    "                        'INST|T001|*IDN?',\n",
    "                        'INST|T002|*IDN?',\n",
    "                        'INST|MM001|*IDN?',\n",
    "                        'INST|MM002|*IDN?']:\n",
    "        \n",
    "        output = _sendInstruction(client,instruction)\n",
    "\n",
    "        # Print the output and print their associated type\n",
    "        print (color+'Instruction sent: \\x1b[1m'+instruction+'\\x1b[0m')\n",
    "        if type(output) == type(dict()):\n",
    "            print_dict(output)\n",
    "        else:\n",
    "            print (output)\n",
    "        \n",
    "    # Close the connexion\n",
    "    client.close()\n",
    "    print ('Done.')"
   ]
  },
  {
   "cell_type": "markdown",
   "metadata": {},
   "source": [
    "## 3.5. Changing setpoints"
   ]
  },
  {
   "cell_type": "code",
   "execution_count": null,
   "metadata": {
    "hide_input": false
   },
   "outputs": [],
   "source": [
    "    # Connecting to the instruction server\n",
    "    client = InstructionClient(TCP_IP, PORT)\n",
    "    '''\n",
    "    Example 4 : Sending instructions\n",
    "    /!\\ Will not work with non-SCPI protocol instruments\n",
    "    Lakeshore, Multimeters have been tested with simple commands\n",
    "    '''\n",
    "    for instruction in ['INST|T001|SETP? 1',\n",
    "                        'INST|T001|SETP 1,320',\n",
    "                        'INST|T001|SETP? 1']:\n",
    "        \n",
    "        output = _sendInstruction(client,instruction)\n",
    "   \n",
    "        # Print the output and print their associated type\n",
    "        print (color+'Instruction sent: \\x1b[1m'+instruction+'\\x1b[0m')\n",
    "        if type(output) == type(dict()):\n",
    "            print_dict(output)\n",
    "        else:\n",
    "            print (output)\n",
    "    \n",
    "    # Close the connexion\n",
    "    client.close()\n",
    "    print ('Done.')"
   ]
  }
 ],
 "metadata": {
  "kernelspec": {
   "display_name": "Python 3",
   "language": "python",
   "name": "python3"
  },
  "language_info": {
   "codemirror_mode": {
    "name": "ipython",
    "version": 3
   },
   "file_extension": ".py",
   "mimetype": "text/x-python",
   "name": "python",
   "nbconvert_exporter": "python",
   "pygments_lexer": "ipython3",
   "version": "3.6.4"
  }
 },
 "nbformat": 4,
 "nbformat_minor": 2
}
